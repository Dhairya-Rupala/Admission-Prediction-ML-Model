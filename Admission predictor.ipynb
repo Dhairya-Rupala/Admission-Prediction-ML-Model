{
 "cells": [
  {
   "cell_type": "code",
   "execution_count": 1,
   "metadata": {},
   "outputs": [],
   "source": [
    "from sklearn.linear_model import LogisticRegression\n",
    "import matplotlib.pyplot as plt\n",
    "import numpy as np"
   ]
  },
  {
   "cell_type": "code",
   "execution_count": 2,
   "metadata": {},
   "outputs": [],
   "source": [
    "# LOADING THE DATA FROM THE DATASET.TXT\n",
    "\n",
    "x1 = []\n",
    "x2 = []\n",
    "out = []\n",
    "\n",
    "with open('dataset.txt','r') as data:\n",
    "    temp = data.read().split('\\n')\n",
    "    temp = temp[:len(temp)-1]\n",
    "    for i in range(len(temp)):\n",
    "        a  = temp[i].split(',')\n",
    "        x1.append(float(a[0]))\n",
    "        x2.append(float(a[1]))\n",
    "        out.append(int(a[2]))\n"
   ]
  },
  {
   "cell_type": "code",
   "execution_count": 3,
   "metadata": {},
   "outputs": [],
   "source": [
    "# PREREQUISITES \n",
    "\n",
    "n = 2\n",
    "m = len(out)\n",
    "theta = np.zeros((n+1,1))\n",
    "\n",
    "x1 = np.array(x1)\n",
    "x2 = np.array(x2)\n",
    "out = np.array(out)\n",
    "\n",
    "X = np.zeros((m,n))\n",
    "for i in range(len(X)):\n",
    "    X[i][0]=x1[i]\n",
    "    X[i][1]=x2[i]"
   ]
  },
  {
   "cell_type": "code",
   "execution_count": 16,
   "metadata": {},
   "outputs": [],
   "source": [
    "# TRAINING THE LOGISTIC REGRESSION MODEL AND OBTAINING THE MODEL PARAMETERS\n",
    "LogReg = LogisticRegression()\n",
    "LogReg.fit(X,out)\n",
    "theta[0] = LogReg.intercept_[0]\n",
    "theta[1] = LogReg.coef_[0][0]\n",
    "theta[2] = LogReg.coef_[0][1]"
   ]
  },
  {
   "cell_type": "code",
   "execution_count": 17,
   "metadata": {},
   "outputs": [
    {
     "name": "stdout",
     "output_type": "stream",
     "text": [
      "[[-25.05219314]\n",
      " [  0.20535491]\n",
      " [  0.2005838 ]]\n"
     ]
    }
   ],
   "source": [
    "print(theta)"
   ]
  },
  {
   "cell_type": "code",
   "execution_count": 18,
   "metadata": {},
   "outputs": [],
   "source": [
    "# RANGE FOR THE PLOTING DECISION BOUNDRY\n",
    "xvals = [i for i in range(int(np.min(x1))-1,int(np.max(x1))+1)]\n",
    "yvals = [-(theta[0]+theta[1]*i)/theta[2] for i in xvals]"
   ]
  },
  {
   "cell_type": "code",
   "execution_count": 19,
   "metadata": {},
   "outputs": [
    {
     "data": {
      "image/png": "[encoded data removed]",
      "text/plain": [
       "<Figure size 432x288 with 1 Axes>"
      ]
     },
     "metadata": {
      "needs_background": "light"
     },
     "output_type": "display_data"
    }
   ],
   "source": [
    "# PLOTTING THE DECISION BOUNDRY AND PLOTTING THE DATA\n",
    "\n",
    "M = ['o','+']\n",
    "C = ['red','green']\n",
    "\n",
    "fig = plt.figure(1)\n",
    "cnt = 0\n",
    "for i in range(len(x1)):\n",
    "    if out[i]==0:\n",
    "        plt.scatter(x1[i],x2[i],label='Not Admitted' if cnt==0 else '',color=C[0],marker=M[0])\n",
    "        cnt+=1\n",
    "\n",
    "cnt = 0\n",
    "for i in range(len(x1)):\n",
    "    if out[i]==1:\n",
    "        plt.scatter(x1[i],x2[i],label='Admitted' if cnt==0 else '',color=C[1],marker=M[1])\n",
    "        cnt+=1\n",
    "\n",
    "\n",
    "plt.plot(xvals,yvals,label='Decision Boundry',linewidth=3)\n",
    "plt.xlabel('Exam 1 score')\n",
    "plt.ylabel('Exam 2 score')\n",
    "plt.title('Exam score')\n",
    "plt.legend()\n",
    "plt.tight_layout()\n",
    "plt.show()\n"
   ]
  },
  {
   "cell_type": "code",
   "execution_count": 25,
   "metadata": {},
   "outputs": [
    {
     "name": "stdout",
     "output_type": "stream",
     "text": [
      "Student 1 will not be admitted in University\n",
      "Student 2 will be admitted in University\n"
     ]
    }
   ],
   "source": [
    "# PREDICTING SIMPLE RESULTS\n",
    "\n",
    "\n",
    "marks1 = np.array([[45,20]])\n",
    "res = LogReg.predict(marks1)\n",
    "if res[0]==1:\n",
    "    print('Student 1 will be admitted in University')\n",
    "else:\n",
    "    print('Student 1 will not be admitted in University')\n",
    "    \n",
    "\n",
    "marks2 = np.array([[90,87]])\n",
    "res = LogReg.predict(marks2)\n",
    "if res[0]==1:\n",
    "    print('Student 2 will be admitted in University')\n",
    "else:\n",
    "    print('Student 2 will not be admitted in University')\n"
   ]
  },
  {
   "cell_type": "code",
   "execution_count": null,
   "metadata": {},
   "outputs": [],
   "source": []
  }
 ],
 "metadata": {
  "kernelspec": {
   "display_name": "Python 3",
   "language": "python",
   "name": "python3"
  },
  "language_info": {
   "codemirror_mode": {
    "name": "ipython",
    "version": 3
   },
   "file_extension": ".py",
   "mimetype": "text/x-python",
   "name": "python",
   "nbconvert_exporter": "python",
   "pygments_lexer": "ipython3",
   "version": "3.8.3"
  }
 },
 "nbformat": 4,
 "nbformat_minor": 4
}
